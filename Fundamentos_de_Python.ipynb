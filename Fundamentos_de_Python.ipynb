{
 "cells": [
  {
   "cell_type": "code",
   "execution_count": 3,
   "id": "2902c46c-be46-4f77-b968-318042149139",
   "metadata": {},
   "outputs": [],
   "source": [
    "name=\"Diego\""
   ]
  },
  {
   "cell_type": "code",
   "execution_count": 5,
   "id": "5226959f-f0eb-4ff9-8dcc-c7d541d941e2",
   "metadata": {},
   "outputs": [],
   "source": [
    "last_name=\"Lazo\""
   ]
  },
  {
   "cell_type": "code",
   "execution_count": 7,
   "id": "590cbbca-6a45-4802-9d97-7bdda54d6859",
   "metadata": {},
   "outputs": [
    {
     "name": "stdout",
     "output_type": "stream",
     "text": [
      "Mi nombre es Diego y mi apellido es Lazo\n"
     ]
    }
   ],
   "source": [
    "print(f\"Mi nombre es {name} y mi apellido es {last_name}\")"
   ]
  },
  {
   "cell_type": "code",
   "execution_count": 9,
   "id": "fbf5cf68-e2dc-4d92-9965-c85ada0c2d8f",
   "metadata": {},
   "outputs": [],
   "source": [
    "#Armar notebook de Fundamentos de Python\n",
    "#Armarlo por Módulos y al fin de cada módulo proponer ejercicios y al finalizar proponer una batería de miniproyectos practicos"
   ]
  },
  {
   "cell_type": "markdown",
   "id": "579d0e96-9cfe-4eb2-b8a3-caae12bddc3c",
   "metadata": {},
   "source": []
  },
  {
   "cell_type": "markdown",
   "id": "77242801-bf88-4215-a29e-198c020bd89f",
   "metadata": {},
   "source": [
    "# FUNDAMENTOS DE PYTHON"
   ]
  },
  {
   "cell_type": "markdown",
   "id": "08108df7-68cd-4e13-867d-96654ea006bc",
   "metadata": {},
   "source": [
    "## 1. Primeros Pasos"
   ]
  },
  {
   "cell_type": "markdown",
   "id": "84d17238-e6b0-4db4-be52-d5d0569e478c",
   "metadata": {},
   "source": [
    "### Variables\n",
    "\n",
    "<aside>\n",
    "✅ Son cajas con información\n",
    "\n",
    "</aside>\n",
    "\n",
    "```python\n",
    "# CREACIÓN\n",
    "x=20\n",
    "\n",
    "# USO\n",
    "x*2\n",
    "```\n",
    "\n",
    "###"
   ]
  },
  {
   "cell_type": "markdown",
   "id": "6cb8b09b-81c1-4116-8d36-d18ab2942600",
   "metadata": {},
   "source": [
    "### Entrada y Salida de Datos"
   ]
  },
  {
   "cell_type": "code",
   "execution_count": 54,
   "id": "bf247036-da4c-4f0a-a58b-2fd320c9cb2a",
   "metadata": {},
   "outputs": [
    {
     "name": "stdout",
     "output_type": "stream",
     "text": [
      "Hello World\n",
      "Debemos descansar 8 horas\n",
      "Hola, mi nombre es Diego y mi apellido es Lazo\n"
     ]
    },
    {
     "name": "stdin",
     "output_type": "stream",
     "text": [
      "ingresa tu nombre:  Diego\n",
      "Ingresa tu edad:  31\n"
     ]
    },
    {
     "name": "stdout",
     "output_type": "stream",
     "text": [
      "Datos Ingresados por el usuario -> \n",
      "Nombre: Diego \n",
      "Edad: 31\n"
     ]
    }
   ],
   "source": [
    "# IMPRIMIR -> MOSTRAR DATOS\n",
    "print(\"Hello World\")\n",
    "\n",
    "# IMPRIMIR MÁS DE UN VALOR\n",
    "h = 8\n",
    "print(\"Debemos descansar\", h, \"horas\")\n",
    "\n",
    "#Otra forma\n",
    "print(f\"Hola, mi nombre es {name} y mi apellido es {last_name}\")\n",
    "\n",
    "# LEER Y GUARDAR UN STRING INGRESADO POR EL USUARIO\n",
    "nombre=input(\"ingresa tu nombre: \")\n",
    "\n",
    "# LEER Y GUARDAR UN NÚMERO INGRESADO POR EL USUARIO\n",
    "edad=int(input(\"Ingresa tu edad: \"))\n",
    "\n",
    "print(f\"\"\"Datos Ingresados por el usuario -> \n",
    "Nombre: {nombre} \n",
    "Edad: {edad}\"\"\")\n",
    "\n",
    "# -> por defecto toda entrada es un string, por ende, \n",
    "# para números es necesario cambiar el tipo de dato."
   ]
  },
  {
   "cell_type": "markdown",
   "id": "361082d2-38cb-4975-a1dd-8fa1e2332bd3",
   "metadata": {},
   "source": [
    "## 2. Tipos de Datos"
   ]
  },
  {
   "cell_type": "markdown",
   "id": "e2c60f91-a8ca-4b09-9c72-994f079b513c",
   "metadata": {},
   "source": [
    "### Datos"
   ]
  },
  {
   "cell_type": "code",
   "execution_count": 59,
   "id": "fad8df03-7ae5-4830-a4d3-c43cceb7a299",
   "metadata": {},
   "outputs": [
    {
     "name": "stdout",
     "output_type": "stream",
     "text": [
      "<class 'str'>\n",
      "<class 'int'>\n"
     ]
    }
   ],
   "source": [
    "name = \"Diego\"\n",
    "edad = 31\n",
    "\n",
    "# IMPRIMIR EL TIPO DE DATO\n",
    "print(type(name))\n",
    "print(type(edad))"
   ]
  },
  {
   "cell_type": "markdown",
   "id": "d80b7e5c-a437-4dba-b9bb-75fd1bc08da5",
   "metadata": {},
   "source": [
    "### Numbers"
   ]
  },
  {
   "cell_type": "code",
   "execution_count": 62,
   "id": "9f679b03-0e4a-4370-af5a-dfd87371669b",
   "metadata": {},
   "outputs": [],
   "source": [
    "# Se escriben directamente ->\n",
    "\n",
    "#Integer (int)\n",
    "lives = 7\n",
    "\n",
    "#Float (float)\n",
    "temperature = 23.12\n",
    "\n",
    "#Algunas operaciones abreviadas\n",
    "lives = lives + 5\n",
    "lives += 5   # -> Es equivalente"
   ]
  },
  {
   "cell_type": "markdown",
   "id": "ed5a49d6-b870-4e44-9854-ac974180b160",
   "metadata": {},
   "source": [
    "### String"
   ]
  },
  {
   "cell_type": "code",
   "execution_count": 86,
   "id": "f88d187a-5fae-4471-8c04-acab86f7ae75",
   "metadata": {},
   "outputs": [
    {
     "name": "stdout",
     "output_type": "stream",
     "text": [
      "template: Hola, mi nombre es Diego y mi apellido es Lazo\n",
      "template_02: Hola, mi nombre es Diego y mi apellido es Lazo\n",
      "9\n",
      "D\n",
      "rgar\n"
     ]
    }
   ],
   "source": [
    "# Va entre \"comillas\"\n",
    "#Puedo usar comillas simples o dobles. \n",
    "\t#Muy útil cuando en el interior del string necesito usar alguno de esos simbolos.\n",
    "\n",
    "name=\"Diego\"\n",
    "\n",
    "#PUEDO CONCATENAR VARIABLES\n",
    "full_name = name + \" \" + last_name\n",
    "\n",
    "#Otra forma de concatenar o agrupar (V2)\n",
    "template = \"Hola, mi nombre es {} y mi apellido es {}\".format(name, last_name)\n",
    "print(\"template: \"+template)\n",
    "\n",
    "#Otra forma de concatenar o agrupar (V3) -> LA MAS USADA\n",
    "template_02 = f\"Hola, mi nombre es {name} y mi apellido es {last_name}\"\n",
    "print(\"template_02: \"+template_02)\n",
    "\n",
    "# Obtener longitud\n",
    "len(\"chocolate\")\n",
    "#puedo guardarlo en una variable o imprimirlo o usarlo de alguna forma\n",
    "longitud=len(\"chocolate\")\n",
    "print(longitud)\n",
    "\n",
    "# Caracter en posición 0\n",
    "name[0]\n",
    "print(name[0])\n",
    "\n",
    "# Una Rebanada\n",
    "rebanada=\"margarita\"[2:6]\n",
    "#comienza desde el index 0\n",
    "#NO TOMA el último index indicado (excluyente)\n",
    "print(rebanada)\n",
    "\n"
   ]
  },
  {
   "cell_type": "markdown",
   "id": "f5f1ab4a-dac0-4501-b1ba-08eebe33de07",
   "metadata": {},
   "source": [
    "### Boolean"
   ]
  },
  {
   "cell_type": "code",
   "execution_count": 89,
   "id": "4596906e-e33a-432e-85e8-3c1dbfb2e896",
   "metadata": {},
   "outputs": [],
   "source": [
    "#Comienzan en MAYUSCULA\n",
    "is_single = True\n",
    "\n",
    "#Uso de not para invertir\n",
    "is_single = not is_single"
   ]
  },
  {
   "cell_type": "markdown",
   "id": "a56170f3-6e5a-43af-95eb-ea13dc84d970",
   "metadata": {},
   "source": [
    "### Transformación de tipos"
   ]
  },
  {
   "cell_type": "code",
   "execution_count": 92,
   "id": "2f920e42-fe58-4644-8308-531dd9193cfc",
   "metadata": {},
   "outputs": [
    {
     "name": "stdout",
     "output_type": "stream",
     "text": [
      "<class 'str'>\n"
     ]
    },
    {
     "name": "stdin",
     "output_type": "stream",
     "text": [
      "Ingresa tu edad:  31\n"
     ]
    },
    {
     "name": "stdout",
     "output_type": "stream",
     "text": [
      "<class 'int'>\n"
     ]
    }
   ],
   "source": [
    "#Debo siempre poner mucha atención con qué tipo de dato estoy trabajando\n",
    "#Y que tipo de datos estoy relacionando\n",
    "\n",
    "age=31\n",
    "#Pasar de Int a String\n",
    "age=str(age) #Transforma el tipo de dato. Es necesario reasignar a la variable\n",
    "#Las variables son ese espacio en memoria donde se guarda todo\n",
    "print(type(age))\n",
    "\n",
    "\n",
    "#Pasar de String a Int\n",
    "int(edad)\n",
    "#aplicación\n",
    "edad = int(input(\"Ingresa tu edad: \")) #Los input siempre son string -> se debe cambiar tipo para trabajarlos como números\n",
    "print(type(edad))\n",
    "\n",
    "##RECORDAR LA IMPORTANCIA DEL USO DE VALIDACIONES\n",
    "#Como las que aprendí en Javascript"
   ]
  },
  {
   "cell_type": "markdown",
   "id": "01d7361c-188e-4625-b245-44bec9c89694",
   "metadata": {},
   "source": [
    "## 3. Control de Flujo"
   ]
  },
  {
   "cell_type": "markdown",
   "id": "c1f72226-26af-4703-ba3c-b2dd4af91894",
   "metadata": {},
   "source": [
    "### Operadores"
   ]
  },
  {
   "cell_type": "markdown",
   "id": "72aa3c2f-9264-4f4f-88fa-6ef85dd41c9c",
   "metadata": {},
   "source": [
    "OPERADORES ARITMETICOS"
   ]
  },
  {
   "cell_type": "code",
   "execution_count": null,
   "id": "1fdb5db4-e860-4292-80e3-125721f47117",
   "metadata": {},
   "outputs": [],
   "source": [
    "#OPERADORES ARITMETICOS\n",
    "\n",
    "+ #Suma\n",
    "- #Resta\n",
    "* #Multiplicacion\n",
    "/ #División\n",
    "** #Potencia\n",
    "% #Modulo -> devuelve el resto de una división\n",
    "// #División entera -> devuelve la parte entera de la división"
   ]
  },
  {
   "cell_type": "markdown",
   "id": "914f0641-6968-40cf-851f-357dd14e0dbf",
   "metadata": {},
   "source": [
    "OPERADORES DE COMPARACIÓN"
   ]
  },
  {
   "cell_type": "code",
   "execution_count": null,
   "id": "4b924eda-8246-4259-bff8-996014223dc0",
   "metadata": {},
   "outputs": [],
   "source": [
    "#OPERADORES DE COMPARACION\n",
    "\n",
    "== #Igual\n",
    "> #Mayor\n",
    ">= #Mayor o igual\n",
    "< #Menor\n",
    "<= #Menor o igual\n",
    "!= #Distinto"
   ]
  },
  {
   "cell_type": "code",
   "execution_count": 102,
   "id": "b504cebd-1940-4666-9015-e7de3cd79ac3",
   "metadata": {},
   "outputs": [
    {
     "name": "stdout",
     "output_type": "stream",
     "text": [
      "True\n",
      "3.3000000000000003\n",
      "3.3\n"
     ]
    }
   ],
   "source": [
    "#COMPARACIÓN DE NUMEROS FLOAT → DECIMALES\n",
    "\n",
    "#Al Comparar números decimales (float) que son virtualmente iguales, \n",
    "#python puede inducir errores\n",
    "#DEBEMOS PREVENIRLOS\n",
    "\n",
    "y = 1.1 + 2.2\n",
    "x=3.3\n",
    "#da 3.300000000003\n",
    "#al comparar con x=3.3 daría False\n",
    "\n",
    "#La forma matemática\n",
    "#definimos una tolerancia y luego compraramos, restando valores, y verificando que\n",
    "#la resta sea menor a la tolerancia\n",
    "\n",
    "tolerance = 0.00001\n",
    "print(abs(x - y) < tolerance)\n",
    "#Un True se traduce como que son virtualmente iguales.\n",
    "\n",
    "#Yo personalmente probaría una función de redondear u aproximar a cierto decimal como\n",
    "#la función round()\n",
    "\n",
    "result=1.1+2.2\n",
    "print(result)\n",
    "result=round(result, 2) #estoy indicando que conserve 2 decimales\n",
    "print(result)\n",
    "\n"
   ]
  },
  {
   "cell_type": "markdown",
   "id": "a0a13b9f-0331-449b-b2b5-99773d133637",
   "metadata": {},
   "source": [
    "OPERADORES BOOLEANOS O LOGICOS"
   ]
  },
  {
   "cell_type": "code",
   "execution_count": 111,
   "id": "c616f4c7-01e1-48ae-8c05-2d4d7cc54d81",
   "metadata": {},
   "outputs": [
    {
     "name": "stdout",
     "output_type": "stream",
     "text": [
      "True\n"
     ]
    }
   ],
   "source": [
    "#And\n",
    "#Or\n",
    "\n",
    "#Útil para operaciones booleanas y un sin fin de operaciones\n",
    "#Considerar las tablas de verdad y la lógica\n",
    "\n",
    "#Casos de uso ->\n",
    "\n",
    "stock=958\n",
    "\n",
    "print(stock >= 100 and stock <= 1000)\n",
    "#definiendo que la variable esté en un rango para que devuelva True o False\n",
    "\n",
    "#Un operador de NEGACIÓN\n",
    "# not True\n",
    "#not (True and False)"
   ]
  },
  {
   "cell_type": "markdown",
   "id": "a5cee5c4-4194-409f-a3ee-a70a659307b7",
   "metadata": {},
   "source": [
    "### Condicionales"
   ]
  },
  {
   "cell_type": "code",
   "execution_count": 115,
   "id": "2bef54dc-2e57-4e23-ba1a-33e75b488d61",
   "metadata": {},
   "outputs": [
    {
     "name": "stdout",
     "output_type": "stream",
     "text": [
      "debería ejecutarse\n"
     ]
    }
   ],
   "source": [
    "if True:\n",
    "\tprint(\"debería ejecutarse\")\n",
    "\n",
    "if False:\n",
    "\tprint(\"nunca se ejecuta\")\n",
    "\n",
    "#elif \n",
    "#Si no se cumple la anterior, y ahora vemos una segunda\n",
    "\n",
    "#else:.......\n",
    "#Si no se cumple ninguna y esta es la sentencia final"
   ]
  },
  {
   "cell_type": "code",
   "execution_count": 119,
   "id": "c3808c8b-631c-43b5-ad6f-7961fdeb9e8a",
   "metadata": {},
   "outputs": [
    {
     "name": "stdout",
     "output_type": "stream",
     "text": [
      "Stock de Insumos OK\n",
      "Es necesario reponer Repuestos\n"
     ]
    }
   ],
   "source": [
    "#Caso practico 01\n",
    "\n",
    "stock_insumos=104\n",
    "stock_repuestos=32\n",
    "\n",
    "if stock_insumos < 100:\n",
    "    print(\"Es necesario reponer Insumos\"),\n",
    "else: print(\"Stock de Insumos OK\")\n",
    "\n",
    "if stock_repuestos < 50:\n",
    "    print(\"Es necesario reponer Repuestos\"),\n",
    "else: print(\"Stock de Repuestos OK\")"
   ]
  },
  {
   "cell_type": "code",
   "execution_count": 5,
   "id": "ee1b0af6-b715-4b23-b5cc-ce1021f1b4ab",
   "metadata": {},
   "outputs": [
    {
     "name": "stdout",
     "output_type": "stream",
     "text": [
      "Alerta: insumos cerca del deficit\n",
      "Es necesario reponer Repuestos\n"
     ]
    }
   ],
   "source": [
    "#Caso practico 02\n",
    "#podemos evolucionarlo\n",
    "\n",
    "#Condiciones de Stock -> estamos preestableciendo condiciones\n",
    "deficit_insumos=100\n",
    "alerta_insumos=120\n",
    "deficit_repuestos=50\n",
    "\n",
    "#Status de inventario\n",
    "stock_insumos=104\n",
    "stock_repuestos=32\n",
    "\n",
    "if stock_insumos < deficit_insumos:\n",
    "    print(\"Es necesario reponer Insumos\"),\n",
    "elif stock_insumos <= alerta_insumos:\n",
    "    print(\"Alerta: insumos cerca del deficit\")\n",
    "else: print(\"Stock de Insumos OK\")\n",
    "\n",
    "if stock_repuestos < deficit_repuestos:\n",
    "    print(\"Es necesario reponer Repuestos\"),\n",
    "else: print(\"Stock de Repuestos OK\")\n"
   ]
  },
  {
   "cell_type": "code",
   "execution_count": 149,
   "id": "326154ed-c39f-4189-8632-dd8d52c5bf0a",
   "metadata": {},
   "outputs": [
    {
     "name": "stdout",
     "output_type": "stream",
     "text": [
      "La conductividad hidráulica de la Unidad Geotécnica 1 (5.15 UL) está sobre el límite\n",
      "Unidad Geotécnica 2 ->\n",
      "    Conductividad hidráulica: 0.89 UL,\n",
      "    Condición: Sobre el límite aceptable\n"
     ]
    }
   ],
   "source": [
    "#Caso practico 03\n",
    "#Geo aplicación\n",
    "\n",
    "#Targets de conductividad hidráulica según EETT -> estamos preestableciendo condiciones\n",
    "ch_target_UL=2\n",
    "\n",
    "#Status de ensayos\n",
    "#cd: conductividad hidraulica en UL\n",
    "ch_ug1=5.15\n",
    "ch_ug2=0.89\n",
    "\n",
    "if ch_ug1 <= ch_target_UL:\n",
    "    print(f\"La conductividad hidráulica de la Unidad Geotécnica 1 ({ch_ug1} UL)  es óptima\"),\n",
    "else: print(f\"La conductividad hidráulica de la Unidad Geotécnica 1 ({ch_ug1} UL) está sobre el límite\")\n",
    "\n",
    "if ch_ug2 <= ch_target_UL:\n",
    "    print(f\"\"\"Unidad Geotécnica 2 ->\n",
    "    Conductividad hidráulica: {ch_ug2} UL,\n",
    "    Condición: Sobre el límite aceptable\"\"\"),\n",
    "else: print(f\"\"\"Unidad Geotécnica 2 ->\n",
    "    Conductividad hidráulica: {ch_ug2} UL,\n",
    "    Condición: Sobre el límite aceptable\"\"\")\n"
   ]
  },
  {
   "cell_type": "markdown",
   "id": "7792aef4-8461-4f06-ab22-2af8e51b10a8",
   "metadata": {},
   "source": [
    "### Bucles"
   ]
  },
  {
   "cell_type": "markdown",
   "id": "a5520602-6ac1-451e-ab73-9f757002a33a",
   "metadata": {},
   "source": [
    "WHILE"
   ]
  },
  {
   "cell_type": "markdown",
   "id": "87b29eb0-c054-4baf-ad4a-7c2096c66193",
   "metadata": {},
   "source": [
    "<aside>\n",
    "✅ https://www.w3schools.com/python/python_while_loops.asp → The While Loop\n",
    "\n",
    "</aside>"
   ]
  },
  {
   "cell_type": "markdown",
   "id": "90216378-97ab-4df6-aa39-577f8a2e9013",
   "metadata": {},
   "source": [
    "<aside>\n",
    "✅ Mientras una condición se cumpla se seguirá iterando y ejecutando el script\n",
    "\n",
    "</aside>"
   ]
  },
  {
   "cell_type": "code",
   "execution_count": 161,
   "id": "daa3e2cb-5984-44eb-82ef-60610b7519bd",
   "metadata": {},
   "outputs": [
    {
     "name": "stdout",
     "output_type": "stream",
     "text": [
      "1\n",
      "2\n",
      "3\n",
      "4\n",
      "5\n"
     ]
    }
   ],
   "source": [
    "# FUNDAMENTALMENTE ->\n",
    "\n",
    "i = 1 #condición inicial\n",
    "#se suele usar i como un contador.\n",
    "\n",
    "while i < 6: #Declaración de la condición para iterar\n",
    "  print(i) #Bloque de código a ejecutar\n",
    "  i += 1 #Se modifica el contador"
   ]
  },
  {
   "cell_type": "code",
   "execution_count": 167,
   "id": "da8a1a71-17a8-4cd6-b699-f2097bf8dc92",
   "metadata": {},
   "outputs": [
    {
     "name": "stdout",
     "output_type": "stream",
     "text": [
      "1\n",
      "2\n",
      "3\n",
      "4\n",
      "5\n",
      "6\n",
      "7\n",
      "8\n",
      "9\n",
      "10\n",
      "1\n",
      "2\n",
      "3\n",
      "4\n",
      "5\n",
      "6\n",
      "7\n",
      "8\n",
      "9\n",
      "10\n",
      "11\n",
      "12\n",
      "13\n",
      "14\n",
      "break\n",
      "15\n",
      "16\n",
      "17\n",
      "18\n",
      "19\n",
      "20\n",
      "21\n",
      "1\n",
      "2\n",
      "3\n",
      "4\n",
      "5\n",
      "i is no longer less than 6\n"
     ]
    }
   ],
   "source": [
    "#EXPLICACIÓN EXTENDIDA\n",
    "#while: mientras\n",
    "#Mientras se cumpla la condición, se ejecutará el bloque de código\n",
    "#con Ctrl+c se detiene la ejecución\n",
    "\n",
    "#Lógica\n",
    "#while True:\n",
    "\t#se ejecuta\n",
    "\n",
    "#Sintaxis\n",
    "counter = 0 #debe haber un contador (a veces se usa la i, por convención)\n",
    "\n",
    "while counter < 10:\n",
    "    counter += 1\n",
    "    print(counter)\n",
    "\n",
    "#Uso de break para forzar el cierre de un ciclo\n",
    "counter = 0\n",
    "\n",
    "while counter < 20:\n",
    "    counter += 1\n",
    "    if counter == 15:\n",
    "        print(\"break\")\n",
    "        break\n",
    "    print(counter)\n",
    "\n",
    "#Uso de continue\n",
    "#Se salta la lógica que hay debajo y SIGUE con la siguiente iteración\n",
    "\n",
    "counter = 0\n",
    "\n",
    "while counter <= 20:\n",
    "    counter += 1\n",
    "    if counter < 15:\n",
    "        continue\n",
    "    print(counter)\n",
    "    \n",
    "#Uso de else\n",
    "#Ejecución de código si la condición es falsa\n",
    "i = 1\n",
    "while i < 6:\n",
    "  print(i)\n",
    "  i += 1\n",
    "else:\n",
    "  print(\"i is no longer less than 6\")"
   ]
  },
  {
   "cell_type": "markdown",
   "id": "8f7c9220-884a-44f0-997a-28c3fb4e8759",
   "metadata": {},
   "source": [
    "FOR"
   ]
  },
  {
   "cell_type": "markdown",
   "id": "586c3680-4d83-4c4d-a08e-00224b6f390f",
   "metadata": {},
   "source": [
    "<aside>\n",
    "✅ https://www.w3schools.com/python/python_for_loops.asp\n",
    "\n",
    "</aside>"
   ]
  },
  {
   "cell_type": "markdown",
   "id": "ad00e7ac-3a9d-4884-a796-d69199390a1a",
   "metadata": {},
   "source": [
    "<aside>\n",
    "✅ Usado para iterar sobre una secuencia\n",
    "\n",
    "</aside>"
   ]
  },
  {
   "cell_type": "code",
   "execution_count": 25,
   "id": "c6ad7259-c24d-45bc-9c53-6506cfd4c60c",
   "metadata": {},
   "outputs": [
    {
     "name": "stdout",
     "output_type": "stream",
     "text": [
      "0\n",
      "1\n",
      "2\n",
      "3\n",
      "4\n",
      "5\n",
      "6\n",
      "7\n",
      "8\n",
      "9\n",
      "10\n",
      "11\n",
      "12\n",
      "13\n",
      "14\n",
      "15\n",
      "16\n",
      "17\n",
      "18\n",
      "19\n",
      "1\n",
      "2\n",
      "3\n",
      "4\n",
      "5\n",
      "6\n",
      "7\n",
      "8\n",
      "9\n",
      "10\n",
      "11\n",
      "12\n",
      "13\n",
      "14\n",
      "15\n",
      "16\n",
      "17\n",
      "18\n",
      "19\n",
      "20\n",
      "23\n",
      "45\n",
      "67\n",
      "89\n",
      "102\n",
      "name => Geoflex\n",
      "valor => 4700\n",
      "codigo => 223485\n",
      "{'name': 'Nico', 'age': 34}\n",
      "{'name': 'Zule', 'age': 45}\n",
      "{'name': 'Santi', 'age': 4}\n"
     ]
    }
   ],
   "source": [
    "#Tenemos un elemento iterador en un número de iteraciones dados\n",
    "\n",
    "#Sintaxis\n",
    "for element in range(20): #range es una función que entrega un rango según el parámetro\n",
    "    print(element)\n",
    "#element puede indicarse como una letra (i), pero aquello que se consulta debe indicarse\n",
    "\n",
    "\n",
    "#() Uso de Range\n",
    "#range()\n",
    "range(5) #generates 0, 1, 2, 3, 4\n",
    "range(1, 5) #generates 1, 2, 3, 4\n",
    "range(1, 5, 2) #generates 1, 3\n",
    "\n",
    "for element in range(1,21): #puedo ser más específico\n",
    "\tprint(element)\n",
    "#devuelve del 1 al 20\n",
    "\n",
    "#Muy útil para recorrer estructuras\n",
    "my_list = [23, 45, 67, 89, 102]\n",
    "\n",
    "for i in my_list:\n",
    "    print(i)\n",
    "    \n",
    "\n",
    "\n",
    "\n",
    "#EXPLICACIÓN EXTENDIDA\n",
    "\n",
    "#aplica para tuplas y diccionarios tb, con diferentes tipos de datos\n",
    "#para diccionarios, si no especifico me trae las keys\n",
    "#pero puedo especificar\n",
    "\n",
    "\n",
    "product = {\n",
    "        \"name\": \"Geoflex\",\n",
    "        \"valor\": 4700,\n",
    "        \"codigo\": 223485,\n",
    "    }\n",
    "for key in product:\n",
    "\tprint(key, \"=>\", product[key])\n",
    "#me devuelve desglosado el diccionario\n",
    "#product es el diccionario de ejemplo\n",
    "#Distinto seria si tuviese una lista de diccionarios -> tendría que hacer un doble acceso\n",
    "\n",
    "\n",
    "#La mayoria de las veces se trabaja con lista de diccionarios ->\n",
    "\n",
    "people = [\n",
    "    {\n",
    "        \"name\": \"Nico\",\n",
    "        \"age\": 34\n",
    "    },\n",
    "    {\n",
    "        \"name\": \"Zule\",\n",
    "        \"age\": 45\n",
    "    },\n",
    "    {\n",
    "        \"name\": \"Santi\",\n",
    "        \"age\": 4\n",
    "    }\n",
    "]\n",
    "\n",
    "#aplicando ciclo for\n",
    "for person in people:\n",
    "\tprint(person)\n",
    "\n",
    "#person puede ser cualquier letra, se suele usar i, pero el diccionario debo nombrarlo\n",
    "#también puedo iterar y mostrar algún elemento especifico del diccionario\n"
   ]
  },
  {
   "cell_type": "markdown",
   "id": "6e6f6b55-a143-4778-9da5-c72c3c9c8739",
   "metadata": {},
   "source": [
    "CICLOS ANIDADOS"
   ]
  },
  {
   "cell_type": "code",
   "execution_count": 36,
   "id": "92003270-aff9-40e5-83c8-c6c7f88c5437",
   "metadata": {},
   "outputs": [
    {
     "name": "stdout",
     "output_type": "stream",
     "text": [
      "2\n",
      "[1, 2, 3]\n",
      "1\n",
      "2\n",
      "3\n",
      "[4, 5, 6]\n",
      "4\n",
      "5\n",
      "6\n",
      "[7, 8, 9]\n",
      "7\n",
      "8\n",
      "9\n",
      "[1, 2, 3]\n",
      "1\n",
      "2\n",
      "3\n",
      "[4, 5, 6]\n",
      "4\n",
      "5\n",
      "6\n",
      "[7, 8, 9]\n",
      "7\n",
      "8\n",
      "9\n"
     ]
    }
   ],
   "source": [
    "#Ciclos anidados\n",
    "\n",
    "#En el caso de las matrices, son listas dentro de una lista\n",
    "matriz = [\n",
    "    [1,2,3],\n",
    "    [4,5,6],\n",
    "    [7,8,9]\n",
    "]\n",
    "print(matriz[0][1]) #Este print es como seleccionar una coordenada, \n",
    "# Apunta a la primera lista (row[0]) en su segundo elemento (column[1])\n",
    "\n",
    "            #c1,c2,c3\n",
    "    #row(0)->[1,2,3],\n",
    "    #row(1)->[4,5,6],\n",
    "    #row(2)->[7,8,9]\n",
    "\n",
    "\n",
    "#Aplicando ciclos\n",
    "\n",
    "for element in matriz:\n",
    "    print(element)\n",
    "    for item in element:\n",
    "        print(item)\n",
    "#Es muy importante no repetir el element, por eso se usó item en el segundo ciclo\n",
    "\n",
    "#una forma más clara de entender\n",
    "for row in matriz:\n",
    "    print(row)\n",
    "    for column in row:\n",
    "        print(column)"
   ]
  },
  {
   "cell_type": "markdown",
   "id": "f3409473-b378-4852-b882-b5e358e4f942",
   "metadata": {},
   "source": [
    "## 5. Estructura de Datos"
   ]
  },
  {
   "cell_type": "markdown",
   "id": "4b55877e-d5b1-4b8e-ae1c-bf7eacd48c9d",
   "metadata": {},
   "source": [
    "## 6. Modularidad"
   ]
  },
  {
   "cell_type": "code",
   "execution_count": null,
   "id": "b5b0617c-a6c2-4d83-9620-a910366c59bd",
   "metadata": {},
   "outputs": [],
   "source": []
  }
 ],
 "metadata": {
  "kernelspec": {
   "display_name": "Python 3 (ipykernel)",
   "language": "python",
   "name": "python3"
  },
  "language_info": {
   "codemirror_mode": {
    "name": "ipython",
    "version": 3
   },
   "file_extension": ".py",
   "mimetype": "text/x-python",
   "name": "python",
   "nbconvert_exporter": "python",
   "pygments_lexer": "ipython3",
   "version": "3.12.4"
  }
 },
 "nbformat": 4,
 "nbformat_minor": 5
}
