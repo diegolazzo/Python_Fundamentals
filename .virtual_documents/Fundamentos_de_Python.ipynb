name="Diego"


last_name="Lazo"


print(f"Mi nombre es {name} y mi apellido es {last_name}")


#Armar notebook de Fundamentos de Python
#Armarlo por Módulos y al fin de cada módulo proponer ejercicios y al finalizar proponer una batería de miniproyectos practicos

















# IMPRIMIR -> MOSTRAR DATOS
print("Hello World")

# IMPRIMIR MÁS DE UN VALOR
h = 8
print("Debemos descansar", h, "horas")

#Otra forma
print(f"Hola, mi nombre es {name} y mi apellido es {last_name}")

# LEER Y GUARDAR UN STRING INGRESADO POR EL USUARIO
nombre=input("ingresa tu nombre: ")

# LEER Y GUARDAR UN NÚMERO INGRESADO POR EL USUARIO
edad=int(input("Ingresa tu edad: "))

print(f"""Datos Ingresados por el usuario -> 
Nombre: {nombre} 
Edad: {edad}""")

# -> por defecto toda entrada es un string, por ende, 
# para números es necesario cambiar el tipo de dato.








name = "Diego"
edad = 31

# IMPRIMIR EL TIPO DE DATO
print(type(name))
print(type(edad))





# Se escriben directamente ->

#Integer (int)
lives = 7

#Float (float)
temperature = 23.12

#Algunas operaciones abreviadas
lives = lives + 5
lives += 5   # -> Es equivalente





# Va entre "comillas"
#Puedo usar comillas simples o dobles. 
	#Muy útil cuando en el interior del string necesito usar alguno de esos simbolos.

name="Diego"

#PUEDO CONCATENAR VARIABLES
full_name = name + " " + last_name

#Otra forma de concatenar o agrupar (V2)
template = "Hola, mi nombre es {} y mi apellido es {}".format(name, last_name)
print("template: "+template)

#Otra forma de concatenar o agrupar (V3) -> LA MAS USADA
template_02 = f"Hola, mi nombre es {name} y mi apellido es {last_name}"
print("template_02: "+template_02)

# Obtener longitud
len("chocolate")
#puedo guardarlo en una variable o imprimirlo o usarlo de alguna forma
longitud=len("chocolate")
print(longitud)

# Caracter en posición 0
name[0]
print(name[0])

# Una Rebanada
rebanada="margarita"[2:6]
#comienza desde el index 0
#NO TOMA el último index indicado (excluyente)
print(rebanada)







#Comienzan en MAYUSCULA
is_single = True

#Uso de not para invertir
is_single = not is_single





#Debo siempre poner mucha atención con qué tipo de dato estoy trabajando
#Y que tipo de datos estoy relacionando

age=31
#Pasar de Int a String
age=str(age) #Transforma el tipo de dato. Es necesario reasignar a la variable
#Las variables son ese espacio en memoria donde se guarda todo
print(type(age))


#Pasar de String a Int
int(edad)
#aplicación
edad = int(input("Ingresa tu edad: ")) #Los input siempre son string -> se debe cambiar tipo para trabajarlos como números
print(type(edad))

##RECORDAR LA IMPORTANCIA DEL USO DE VALIDACIONES
#Como las que aprendí en Javascript











#OPERADORES ARITMETICOS

+ #Suma
- #Resta
* #Multiplicacion
/ #División
** #Potencia
% #Modulo -> devuelve el resto de una división
// #División entera -> devuelve la parte entera de la división





#OPERADORES DE COMPARACION

== #Igual
> #Mayor
>= #Mayor o igual
< #Menor
<= #Menor o igual
!= #Distinto


#COMPARACIÓN DE NUMEROS FLOAT → DECIMALES

#Al Comparar números decimales (float) que son virtualmente iguales, 
#python puede inducir errores
#DEBEMOS PREVENIRLOS

y = 1.1 + 2.2
x=3.3
#da 3.300000000003
#al comparar con x=3.3 daría False

#La forma matemática
#definimos una tolerancia y luego compraramos, restando valores, y verificando que
#la resta sea menor a la tolerancia

tolerance = 0.00001
print(abs(x - y) < tolerance)
#Un True se traduce como que son virtualmente iguales.

#Yo personalmente probaría una función de redondear u aproximar a cierto decimal como
#la función round()

result=1.1+2.2
print(result)
result=round(result, 2) #estoy indicando que conserve 2 decimales
print(result)







#And
#Or

#Útil para operaciones booleanas y un sin fin de operaciones
#Considerar las tablas de verdad y la lógica

#Casos de uso ->

stock=958

print(stock >= 100 and stock <= 1000)
#definiendo que la variable esté en un rango para que devuelva True o False

#Un operador de NEGACIÓN
# not True
#not (True and False)





if True:
	print("debería ejecutarse")

if False:
	print("nunca se ejecuta")

#elif 
#Si no se cumple la anterior, y ahora vemos una segunda

#else:.......
#Si no se cumple ninguna y esta es la sentencia final


#Caso practico 01

stock_insumos=104
stock_repuestos=32

if stock_insumos < 100:
    print("Es necesario reponer Insumos"),
else: print("Stock de Insumos OK")

if stock_repuestos < 50:
    print("Es necesario reponer Repuestos"),
else: print("Stock de Repuestos OK")


#Caso practico 02
#podemos evolucionarlo

#Condiciones de Stock -> estamos preestableciendo condiciones
deficit_insumos=100
alerta_insumos=120
deficit_repuestos=50

#Status de inventario
stock_insumos=104
stock_repuestos=32

if stock_insumos < deficit_insumos:
    print("Es necesario reponer Insumos"),
elif stock_insumos <= alerta_insumos:
    print("Alerta: insumos cerca del deficit")
else: print("Stock de Insumos OK")

if stock_repuestos < deficit_repuestos:
    print("Es necesario reponer Repuestos"),
else: print("Stock de Repuestos OK")



#Caso practico 03
#Geo aplicación

#Targets de conductividad hidráulica según EETT -> estamos preestableciendo condiciones
ch_target_UL=2

#Status de ensayos
#cd: conductividad hidraulica en UL
ch_ug1=5.15
ch_ug2=0.89

if ch_ug1 <= ch_target_UL:
    print(f"La conductividad hidráulica de la Unidad Geotécnica 1 ({ch_ug1} UL)  es óptima"),
else: print(f"La conductividad hidráulica de la Unidad Geotécnica 1 ({ch_ug1} UL) está sobre el límite")

if ch_ug2 <= ch_target_UL:
    print(f"""Unidad Geotécnica 2 ->
    Conductividad hidráulica: {ch_ug2} UL,
    Condición: Sobre el límite aceptable"""),
else: print(f"""Unidad Geotécnica 2 ->
    Conductividad hidráulica: {ch_ug2} UL,
    Condición: Sobre el límite aceptable""")















# FUNDAMENTALMENTE ->

i = 1 #condición inicial
#se suele usar i como un contador.

while i < 6: #Declaración de la condición para iterar
  print(i) #Bloque de código a ejecutar
  i += 1 #Se modifica el contador


#EXPLICACIÓN EXTENDIDA
#while: mientras
#Mientras se cumpla la condición, se ejecutará el bloque de código
#con Ctrl+c se detiene la ejecución

#Lógica
#while True:
	#se ejecuta

#Sintaxis
counter = 0 #debe haber un contador (a veces se usa la i, por convención)

while counter < 10:
    counter += 1
    print(counter)

#Uso de break para forzar el cierre de un ciclo
counter = 0

while counter < 20:
    counter += 1
    if counter == 15:
        print("break")
        break
    print(counter)

#Uso de continue
#Se salta la lógica que hay debajo y SIGUE con la siguiente iteración

counter = 0

while counter <= 20:
    counter += 1
    if counter < 15:
        continue
    print(counter)
    
#Uso de else
#Ejecución de código si la condición es falsa
i = 1
while i < 6:
  print(i)
  i += 1
else:
  print("i is no longer less than 6")











#Tenemos un elemento iterador en un número de iteraciones dados

#Sintaxis
for element in range(20): #range es una función que entrega un rango según el parámetro
    print(element)
#element puede indicarse como una letra (i), pero aquello que se consulta debe indicarse


#() Uso de Range
#range()
range(5) #generates 0, 1, 2, 3, 4
range(1, 5) #generates 1, 2, 3, 4
range(1, 5, 2) #generates 1, 3

for element in range(1,21): #puedo ser más específico
	print(element)
#devuelve del 1 al 20

#Muy útil para recorrer estructuras
my_list = [23, 45, 67, 89, 102]

for i in my_list:
    print(i)
    



#EXPLICACIÓN EXTENDIDA

#aplica para tuplas y diccionarios tb, con diferentes tipos de datos
#para diccionarios, si no especifico me trae las keys
#pero puedo especificar


product = {
        "name": "Geoflex",
        "valor": 4700,
        "codigo": 223485,
    }
for key in product:
	print(key, "=>", product[key])
#me devuelve desglosado el diccionario
#product es el diccionario de ejemplo
#Distinto seria si tuviese una lista de diccionarios -> tendría que hacer un doble acceso


#La mayoria de las veces se trabaja con lista de diccionarios ->

people = [
    {
        "name": "Nico",
        "age": 34
    },
    {
        "name": "Zule",
        "age": 45
    },
    {
        "name": "Santi",
        "age": 4
    }
]

#aplicando ciclo for
for person in people:
	print(person)

#person puede ser cualquier letra, se suele usar i, pero el diccionario debo nombrarlo
#también puedo iterar y mostrar algún elemento especifico del diccionario






#Ciclos anidados

#En el caso de las matrices, son listas dentro de una lista
matriz = [
    [1,2,3],
    [4,5,6],
    [7,8,9]
]
print(matriz[0][1]) #Este print es como seleccionar una coordenada, 
# Apunta a la primera lista (row[0]) en su segundo elemento (column[1])

            #c1,c2,c3
    #row(0)->[1,2,3],
    #row(1)->[4,5,6],
    #row(2)->[7,8,9]


#Aplicando ciclos

for element in matriz:
    print(element)
    for item in element:
        print(item)
#Es muy importante no repetir el element, por eso se usó item en el segundo ciclo

#una forma más clara de entender
for row in matriz:
    print(row)
    for column in row:
        print(column)









